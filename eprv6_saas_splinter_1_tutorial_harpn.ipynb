{
 "cells": [
  {
   "cell_type": "markdown",
   "metadata": {},
   "source": [
    "# EPRV 6: Sun-as-a-Star Splinter Part I\n",
    "\n",
    "## Tutorial: Download HARPS-N solar data from DACE"
   ]
  },
  {
   "cell_type": "markdown",
   "metadata": {},
   "source": [
    "This tutorial shows how to download HARPS-N solar data using the DACE Python API. To install the DACE API:"
   ]
  },
  {
   "cell_type": "markdown",
   "metadata": {},
   "source": [
    "`pip install dace_query`"
   ]
  },
  {
   "cell_type": "markdown",
   "metadata": {},
   "source": [
    "Let's start! First, import some needed packages."
   ]
  },
  {
   "cell_type": "code",
   "execution_count": 1,
   "metadata": {},
   "outputs": [],
   "source": [
    "from   astropy.io        import fits\n",
    "from   astropy.time      import Time\n",
    "from   dace_query.sun    import Sun\n",
    "from   glob              import glob\n",
    "import matplotlib.pyplot as     plt\n",
    "import numpy             as     np\n",
    "import os\n",
    "import tarfile"
   ]
  },
  {
   "cell_type": "markdown",
   "metadata": {},
   "source": [
    "Specify and create the output directory."
   ]
  },
  {
   "cell_type": "code",
   "execution_count": 2,
   "metadata": {},
   "outputs": [],
   "source": [
    "output_directory = 'sun_harpn_ccf/'\n",
    "os.makedirs(output_directory, exist_ok=True)"
   ]
  },
  {
   "cell_type": "markdown",
   "metadata": {},
   "source": [
    "Create some filters, query the solar database and download the DRS output files (in this case CCF).\n",
    "\n",
    "Tip: If you don't know the filter keywords by heart, make a query based on the dates only and then list all the dictionary keywords from the query output."
   ]
  },
  {
   "cell_type": "code",
   "execution_count": 3,
   "metadata": {},
   "outputs": [
    {
     "name": "stderr",
     "output_type": "stream",
     "text": [
      "2025-06-24 18:27:39,101 - INFO - Downloading file on location : sun_harpn_ccf/temp.tar\n"
     ]
    },
    {
     "name": "stdout",
     "output_type": "stream",
     "text": [
      " Download : 7 MB"
     ]
    },
    {
     "name": "stderr",
     "output_type": "stream",
     "text": [
      "2025-06-24 18:27:39,708 - INFO - File downloaded on location : sun_harpn_ccf/temp.tar\n"
     ]
    },
    {
     "name": "stdout",
     "output_type": "stream",
     "text": [
      " Download : 11 MB\n",
      "Download done\n"
     ]
    }
   ],
   "source": [
    "# Filter: Barycentric Julian Date (BJD)\n",
    "obj_date_bjd_min = Time('2018-07-01T00:00:00').jd-2400000\n",
    "obj_date_bjd_max = Time('2018-07-01T23:59:59').jd-2400000\n",
    "\n",
    "# Filter: Quality flag\n",
    "spectro_analysis_qualflag_min = 0.95\n",
    "spectro_analysis_qualflag_max = 1.00\n",
    "\n",
    "# Filter dictionary\n",
    "filters = {\n",
    "'obj_date_bjd'             : {'min': obj_date_bjd_min             , 'max': obj_date_bjd_max             },\n",
    "'spectro_analysis_qualflag': {'min': spectro_analysis_qualflag_min, 'max': spectro_analysis_qualflag_max},\n",
    "}\n",
    "\n",
    "# Query (optional: only to inspect the output before downloading it)\n",
    "sun_query = Sun.query_database(filters=filters, sort={'obj_date_bjd': 'asc'})\n",
    "\n",
    "# Download CCF files\n",
    "Sun.download('ccf', filters=filters, output_directory=output_directory, output_filename='temp.tar', compressed=False)\n",
    "\n",
    "# Unzip\n",
    "tar = tarfile.open(output_directory+'temp.tar', 'r:')\n",
    "tar.extractall(output_directory)\n",
    "tar.close()\n",
    "\n",
    "# Delete temporary file\n",
    "os.remove(output_directory+'temp.tar')"
   ]
  },
  {
   "cell_type": "markdown",
   "metadata": {},
   "source": [
    "Next, loop the downloaded FITS files and extract whatever data or header variable your analysis requires. Here, we extract the RVs."
   ]
  },
  {
   "cell_type": "code",
   "execution_count": 4,
   "metadata": {},
   "outputs": [],
   "source": [
    "# Files\n",
    "files = glob(output_directory+'**/*.fits', recursive=True)\n",
    "Nfile = len(files)\n",
    "\n",
    "# Empty arrays for header variables\n",
    "time_val = np.empty(Nfile)\n",
    "vrad_val = np.empty(Nfile)\n",
    "vrad_err = np.empty(Nfile)\n",
    "\n",
    "# Loop files\n",
    "for i in range(Nfile):\n",
    "\n",
    "    # Open FITS file\n",
    "    hdul = fits.open(files[i])\n",
    "\n",
    "    # Extract header variables\n",
    "    header = hdul[0].header\n",
    "    time_val[i] = header['HIERARCH TNG QC BJD']\n",
    "    vrad_val[i] = header['HIERARCH TNG QC CCF RV']\n",
    "    vrad_err[i] = header['HIERARCH TNG QC CCF RV ERROR']\n",
    "\n",
    "    # Close FITS file\n",
    "    hdul.close()"
   ]
  },
  {
   "cell_type": "markdown",
   "metadata": {},
   "source": [
    "Finally, plot the extracted data."
   ]
  },
  {
   "cell_type": "code",
   "execution_count": 5,
   "metadata": {},
   "outputs": [
    {
     "data": {
      "image/png": "[encoded data removed]",
      "text/plain": [
       "<Figure size 640x480 with 1 Axes>"
      ]
     },
     "metadata": {},
     "output_type": "display_data"
    }
   ],
   "source": [
    "# RV time series\n",
    "plt.figure()\n",
    "plt.errorbar(time_val, vrad_val, vrad_err, fmt='.', color='k', ecolor='r')\n",
    "plt.xlabel('BJD [d]')\n",
    "plt.ylabel('RV [km/s]')\n",
    "plt.show()"
   ]
  }
 ],
 "metadata": {
  "kernelspec": {
   "display_name": "dace",
   "language": "python",
   "name": "python3"
  },
  "language_info": {
   "codemirror_mode": {
    "name": "ipython",
    "version": 3
   },
   "file_extension": ".py",
   "mimetype": "text/x-python",
   "name": "python",
   "nbconvert_exporter": "python",
   "pygments_lexer": "ipython3",
   "version": "3.10.16"
  }
 },
 "nbformat": 4,
 "nbformat_minor": 2
}
