{
 "cells": [
  {
   "cell_type": "markdown",
   "metadata": {},
   "source": [
    "# EPRV 6: Sun-as-a-Star Splinter Part I\n",
    "\n",
    "## Tutorial: Download NEID solar data from the NEID Archive at NExScI"
   ]
  },
  {
   "cell_type": "markdown",
   "metadata": {},
   "source": [
    "This tutorial shows how to download NEID solar data using the NEID Archive Python API. To install the NEID Archive API:"
   ]
  },
  {
   "cell_type": "markdown",
   "metadata": {},
   "source": [
    "`pip install git+https://github.com/Caltech-IPAC/pyNEID.git`"
   ]
  },
  {
   "cell_type": "markdown",
   "metadata": {},
   "source": [
    "Let's start! First, import some needed packages."
   ]
  },
  {
   "cell_type": "code",
   "execution_count": 1,
   "metadata": {},
   "outputs": [],
   "source": [
    "from   astropy.io        import fits\n",
    "from   glob              import glob\n",
    "import matplotlib.pyplot as     plt\n",
    "import numpy             as     np\n",
    "import os\n",
    "from   pyneid.neid       import Neid"
   ]
  },
  {
   "cell_type": "markdown",
   "metadata": {},
   "source": [
    "Specify and create the output directory."
   ]
  },
  {
   "cell_type": "code",
   "execution_count": null,
   "metadata": {},
   "outputs": [],
   "source": [
    "output_directory = 'sun_neid_l2/'\n",
    "os.makedirs(output_directory, exist_ok=True)"
   ]
  },
  {
   "cell_type": "markdown",
   "metadata": {},
   "source": [
    "Specify some parameters, query one the solar DRP output files (in this case L2) and download them."
   ]
  },
  {
   "cell_type": "code",
   "execution_count": 3,
   "metadata": {},
   "outputs": [
    {
     "name": "stdout",
     "output_type": "stream",
     "text": [
      "submitting request...\n"
     ]
    },
    {
     "name": "stderr",
     "output_type": "stream",
     "text": [
      "/opt/anaconda3/envs/dace/lib/python3.10/site-packages/pyneid/neid/core.py:3879: XMLParsedAsHTMLWarning: It looks like you're using an HTML parser to parse an XML document.\n",
      "\n",
      "Assuming this really is an XML document, what you're doing might work, but you should know that using an XML parser will be more reliable. To parse this document as XML, make sure you have the Python package 'lxml' installed, and pass the keyword argument `features=\"xml\"` into the BeautifulSoup constructor.\n",
      "\n",
      "If you want or need to use an HTML parser on this document, you can make this warning go away by filtering it. To do that, run this code before calling the BeautifulSoup constructor:\n",
      "\n",
      "    from bs4 import XMLParsedAsHTMLWarning\n",
      "    import warnings\n",
      "\n",
      "    warnings.filterwarnings(\"ignore\", category=XMLParsedAsHTMLWarning)\n",
      "\n",
      "  soup = bs.BeautifulSoup (self.statusstruct, 'lxml')\n"
     ]
    },
    {
     "name": "stdout",
     "output_type": "stream",
     "text": [
      "Result downloaded to file [sun_neid_l2/temp.tbl]\n",
      "Start downloading 4 FITS data you requested;\n",
      "please check your outdir: sun_neid_l2/ for  progress.\n",
      "A total of new 4 FITS files downloaded.\n"
     ]
    }
   ],
   "source": [
    "# Parameter: Date\n",
    "date_min = '2021-01-14 00:00:00'\n",
    "date_max = '2021-01-14 23:59:59'\n",
    "\n",
    "# Parameters\n",
    "param = dict()\n",
    "param['datalevel'] = 'solarl2'\n",
    "param['datetime' ] = date_min + '/' + date_max\n",
    "\n",
    "# Query\n",
    "Neid.query_criteria(param, format='csv', outpath=output_directory+'temp.tbl')\n",
    "\n",
    "# Download L2 files\n",
    "Neid.download(output_directory+'temp.tbl', 'solarl2', 'csv', output_directory, start_row=0, end_row=3)\n",
    "\n",
    "# Delete temporary file\n",
    "os.remove(output_directory+'temp.tbl')"
   ]
  },
  {
   "cell_type": "markdown",
   "metadata": {},
   "source": [
    "Next, loop the downloaded FITS files and extract whatever data or header variable your analysis requires. Here, we extract the RVs."
   ]
  },
  {
   "cell_type": "code",
   "execution_count": 4,
   "metadata": {},
   "outputs": [],
   "source": [
    "# Files\n",
    "files = glob(output_directory+'**/*.fits', recursive=True)\n",
    "Nfile = len(files)\n",
    "\n",
    "# Empty arrays for header variables\n",
    "time_val = np.empty(Nfile)\n",
    "vrad_val = np.empty(Nfile)\n",
    "vrad_err = np.empty(Nfile)\n",
    "\n",
    "# Loop files\n",
    "for i in range(Nfile):\n",
    "\n",
    "    # Open FITS file\n",
    "    hdul = fits.open(files[i])\n",
    "\n",
    "    # Extract header variables\n",
    "    header = hdul[12].header\n",
    "    time_val[i] = header['CCFJDMOD']\n",
    "    vrad_val[i] = header['CCFRVMOD']\n",
    "    vrad_err[i] = header['DVRMSMOD']\n",
    "\n",
    "    # Close FITS file\n",
    "    hdul.close()\n"
   ]
  },
  {
   "cell_type": "markdown",
   "metadata": {},
   "source": [
    "Finally, plot the extracted data."
   ]
  },
  {
   "cell_type": "code",
   "execution_count": 5,
   "metadata": {},
   "outputs": [
    {
     "data": {
      "image/png": "[encoded data removed]",
      "text/plain": [
       "<Figure size 640x480 with 1 Axes>"
      ]
     },
     "metadata": {},
     "output_type": "display_data"
    }
   ],
   "source": [
    "# RV time series\n",
    "plt.figure()\n",
    "plt.errorbar(time_val, vrad_val, vrad_err, fmt='.', color='k', ecolor='r')\n",
    "plt.xlabel('BJD [d]')\n",
    "plt.ylabel('RV [km/s]')\n",
    "plt.show()"
   ]
  }
 ],
 "metadata": {
  "kernelspec": {
   "display_name": "dace",
   "language": "python",
   "name": "python3"
  },
  "language_info": {
   "codemirror_mode": {
    "name": "ipython",
    "version": 3
   },
   "file_extension": ".py",
   "mimetype": "text/x-python",
   "name": "python",
   "nbconvert_exporter": "python",
   "pygments_lexer": "ipython3",
   "version": "3.10.16"
  }
 },
 "nbformat": 4,
 "nbformat_minor": 2
}
